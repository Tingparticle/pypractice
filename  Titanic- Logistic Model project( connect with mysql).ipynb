{
 "cells": [
  {
   "cell_type": "markdown",
   "metadata": {},
   "source": [
    "鐵達尼號乘客生存預測:("
   ]
  },
  {
   "cell_type": "markdown",
   "metadata": {},
   "source": [
    "前言"
   ]
  },
  {
   "cell_type": "markdown",
   "metadata": {},
   "source": [
    "匯入資料\n",
    "安裝：\n",
    "! pip3 install mysql-connector-python-rf \n",
    "匯入：\n",
    "import mysql.connector"
   ]
  },
  {
   "cell_type": "code",
   "execution_count": 139,
   "metadata": {
    "collapsed": true
   },
   "outputs": [],
   "source": [
    "import mysql.connector\n",
    "import pandas as pd\n",
    "import numpy as py\n",
    "import matplotlib.pyplot as plt\n",
    "\n",
    "\n",
    "cnx = mysql.connector.connect(user = 'root', password = 'xu3xjp4j4xu3',\n",
    "                              host = '127.0.0.1',\n",
    "                              database = 'titanic')\n",
    "cur = cnx.cursor()\n",
    "#cur.execute(\"SELECT PassengerId, Survived, Pclass, Sex, Age, SibSp, Parch, Ticket, Fare, Cabin, Embarked FROM train\")\n",
    "cur.execute(\"SELECT PassengerId, Survived, Pclass, Age, SibSp, Parch, Fare FROM train\")\n",
    "#cur.execute(\"SELECT PassengerId FROM train\")\n",
    "tata_tra_row = cur.fetchall()\n",
    "#type(tata_tra_row)\n",
    "#print(tata_tra_row)\n",
    "tata_tra_df = pd.DataFrame(tata_tra_row)\n",
    "#print(tata_tra_df)\n",
    "#type(tata_tra_df)\n",
    "#tata_tra_df.head()\n",
    "\n",
    "cnx.close()"
   ]
  },
  {
   "cell_type": "markdown",
   "metadata": {},
   "source": [
    "變數意義"
   ]
  },
  {
   "cell_type": "code",
   "execution_count": 103,
   "metadata": {
    "collapsed": true
   },
   "outputs": [],
   "source": [
    "tata_tra_df.replace('', 'null')"
   ]
  },
  {
   "cell_type": "code",
   "execution_count": 123,
   "metadata": {},
   "outputs": [
    {
     "data": {
      "text/html": [
       "<div>\n",
       "<style>\n",
       "    .dataframe thead tr:only-child th {\n",
       "        text-align: right;\n",
       "    }\n",
       "\n",
       "    .dataframe thead th {\n",
       "        text-align: left;\n",
       "    }\n",
       "\n",
       "    .dataframe tbody tr th {\n",
       "        vertical-align: top;\n",
       "    }\n",
       "</style>\n",
       "<table border=\"1\" class=\"dataframe\">\n",
       "  <thead>\n",
       "    <tr style=\"text-align: right;\">\n",
       "      <th></th>\n",
       "      <th>count</th>\n",
       "      <th>unique</th>\n",
       "      <th>top</th>\n",
       "      <th>freq</th>\n",
       "    </tr>\n",
       "  </thead>\n",
       "  <tbody>\n",
       "    <tr>\n",
       "      <th>0</th>\n",
       "      <td>891</td>\n",
       "      <td>891</td>\n",
       "      <td>831</td>\n",
       "      <td>1</td>\n",
       "    </tr>\n",
       "    <tr>\n",
       "      <th>1</th>\n",
       "      <td>891</td>\n",
       "      <td>2</td>\n",
       "      <td>0</td>\n",
       "      <td>549</td>\n",
       "    </tr>\n",
       "    <tr>\n",
       "      <th>2</th>\n",
       "      <td>891</td>\n",
       "      <td>3</td>\n",
       "      <td>3</td>\n",
       "      <td>491</td>\n",
       "    </tr>\n",
       "    <tr>\n",
       "      <th>3</th>\n",
       "      <td>891</td>\n",
       "      <td>89</td>\n",
       "      <td></td>\n",
       "      <td>177</td>\n",
       "    </tr>\n",
       "    <tr>\n",
       "      <th>4</th>\n",
       "      <td>891</td>\n",
       "      <td>7</td>\n",
       "      <td>0</td>\n",
       "      <td>608</td>\n",
       "    </tr>\n",
       "    <tr>\n",
       "      <th>5</th>\n",
       "      <td>891</td>\n",
       "      <td>7</td>\n",
       "      <td>0</td>\n",
       "      <td>678</td>\n",
       "    </tr>\n",
       "    <tr>\n",
       "      <th>6</th>\n",
       "      <td>891</td>\n",
       "      <td>248</td>\n",
       "      <td>8.05</td>\n",
       "      <td>43</td>\n",
       "    </tr>\n",
       "  </tbody>\n",
       "</table>\n",
       "</div>"
      ],
      "text/plain": [
       "  count unique   top freq\n",
       "0   891    891   831    1\n",
       "1   891      2     0  549\n",
       "2   891      3     3  491\n",
       "3   891     89        177\n",
       "4   891      7     0  608\n",
       "5   891      7     0  678\n",
       "6   891    248  8.05   43"
      ]
     },
     "execution_count": 123,
     "metadata": {},
     "output_type": "execute_result"
    }
   ],
   "source": [
    "tata_tra_df.describe().T"
   ]
  },
  {
   "cell_type": "code",
   "execution_count": 130,
   "metadata": {},
   "outputs": [
    {
     "data": {
      "text/plain": [
       "RangeIndex(start=0, stop=7, step=1)"
      ]
     },
     "execution_count": 130,
     "metadata": {},
     "output_type": "execute_result"
    }
   ],
   "source": [
    "tata_tra_df[tata_tra_df.isnull()]\n",
    "tata_tra_df.columns"
   ]
  },
  {
   "cell_type": "markdown",
   "metadata": {},
   "source": [
    "問題：\n",
    "1.連進來顯示不了表頭\n",
    "2.無法做完整敘述統計\n",
    "3.抓不出NULL值"
   ]
  },
  {
   "cell_type": "code",
   "execution_count": 113,
   "metadata": {
    "collapsed": true
   },
   "outputs": [],
   "source": [
    "#非連進來的data皆可以成功做#\n",
    "a = [0,1, ]\n",
    "a = pd.DataFrame(a)\n",
    "a.isnull()\n",
    "a.describe()\n",
    "#非連進來的data皆可以成功做#"
   ]
  }
 ],
 "metadata": {
  "kernelspec": {
   "display_name": "Python 3",
   "language": "python",
   "name": "python3"
  },
  "language_info": {
   "codemirror_mode": {
    "name": "ipython",
    "version": 3
   },
   "file_extension": ".py",
   "mimetype": "text/x-python",
   "name": "python",
   "nbconvert_exporter": "python",
   "pygments_lexer": "ipython3",
   "version": "3.6.1"
  }
 },
 "nbformat": 4,
 "nbformat_minor": 2
}
