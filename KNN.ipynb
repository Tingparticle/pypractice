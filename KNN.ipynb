{
 "cells": [
  {
   "cell_type": "code",
   "execution_count": 22,
   "metadata": {},
   "outputs": [
    {
     "name": "stdout",
     "output_type": "stream",
     "text": [
      "[2 0 1 0 2 0 2 1 1 1 0 0 0 0 0 1 2 2 1 1 1 0 1 2 2 0 2 0 0 2]\n",
      "[2 0 1 0 2 0 2 1 1 2 0 0 0 0 0 1 2 2 1 1 1 0 1 2 2 0 2 0 0 2]\n"
     ]
    }
   ],
   "source": [
    "from sklearn import datasets\n",
    "from sklearn.cross_validation import train_test_split\n",
    "from sklearn import neighbors\n",
    "import numpy as np\n",
    "import pandas as pd\n",
    "import matplotlib.pyplot as plt\n",
    "from sklearn import metrics\n",
    "\n",
    "iris = datasets.load_iris()\n",
    "iris_x = iris.data\n",
    "iris_y = iris.target\n",
    "\n",
    "train_x, test_x, train_y, test_y = train_test_split(iris_x, iris_y, test_size = 0.2)\n",
    "\n",
    "knn_clf = neighbors.KNeighborsClassifier()\n",
    "\n",
    "iris_knn_tra = knn_clf.fit(train_x, train_y)\n",
    "iris_knn_pre = knn_clf.predict(test_x)\n",
    "\n",
    "print(iris_knn_pre)\n",
    "print(test_y)\n",
    "\n",
    "\n"
   ]
  },
  {
   "cell_type": "markdown",
   "metadata": {
    "collapsed": true
   },
   "source": [
    "最適K選擇"
   ]
  },
  {
   "cell_type": "code",
   "execution_count": 29,
   "metadata": {},
   "outputs": [
    {
     "name": "stdout",
     "output_type": "stream",
     "text": [
      "[0.93333333333333335, 0.93333333333333335, 0.93333333333333335, 0.93333333333333335, 0.96666666666666667, 0.96666666666666667, 0.96666666666666667, 0.96666666666666667, 0.96666666666666667, 0.96666666666666667, 0.96666666666666667, 0.96666666666666667, 0.96666666666666667, 0.96666666666666667, 0.96666666666666667, 0.96666666666666667, 0.96666666666666667, 0.93333333333333335, 0.93333333333333335, 0.90000000000000002, 0.90000000000000002, 0.8666666666666667, 0.90000000000000002, 0.90000000000000002, 0.93333333333333335, 0.93333333333333335, 0.93333333333333335, 0.93333333333333335, 0.93333333333333335, 0.90000000000000002]\n"
     ]
    },
    {
     "data": {
      "image/png": "[encoded data removed]",
      "text/plain": [
       "<matplotlib.figure.Figure at 0x11cc362b0>"
      ]
     },
     "metadata": {},
     "output_type": "display_data"
    }
   ],
   "source": [
    "iris_df = pd.DataFrame(iris.data)\n",
    "iris_df\n",
    "iris_df.shape[0]\n",
    "\n",
    "range_k = range(1, round(0.2*iris_df.shape[0])+1)\n",
    "acc_tota = []\n",
    "\n",
    "for i in range_k:\n",
    "    knn_clf = neighbors.KNeighborsClassifier(n_neighbors = i) \n",
    "    iris_knn_tra = knn_clf.fit(train_x, train_y)\n",
    "    iris_knn_pre = knn_clf.predict(test_x)\n",
    "    acc = metrics.accuracy_score(test_y, iris_knn_pre)\n",
    "    acc_tota.append(acc)\n",
    "\n",
    "print(acc_tota)\n",
    "\n",
    "plt.scatter(range_k, acc_tota)\n",
    "plt.show()\n",
    "    \n",
    "    "
   ]
  },
  {
   "cell_type": "code",
   "execution_count": null,
   "metadata": {
    "collapsed": true
   },
   "outputs": [],
   "source": []
  }
 ],
 "metadata": {
  "kernelspec": {
   "display_name": "Python 3",
   "language": "python",
   "name": "python3"
  },
  "language_info": {
   "codemirror_mode": {
    "name": "ipython",
    "version": 3
   },
   "file_extension": ".py",
   "mimetype": "text/x-python",
   "name": "python",
   "nbconvert_exporter": "python",
   "pygments_lexer": "ipython3",
   "version": "3.6.1"
  }
 },
 "nbformat": 4,
 "nbformat_minor": 2
}
