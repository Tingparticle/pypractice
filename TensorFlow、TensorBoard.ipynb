{
 "cells": [
  {
   "cell_type": "markdown",
   "metadata": {},
   "source": [
    "TensorFlow"
   ]
  },
  {
   "cell_type": "markdown",
   "metadata": {},
   "source": [
    "1.測試TF"
   ]
  },
  {
   "cell_type": "code",
   "execution_count": 3,
   "metadata": {},
   "outputs": [
    {
     "data": {
      "text/plain": [
       "b'Hello, TensorFlow!'"
      ]
     },
     "execution_count": 3,
     "metadata": {},
     "output_type": "execute_result"
    }
   ],
   "source": [
    "import tensorflow as tf\n",
    "hello = tf.constant('Hello, TensorFlow!')\n",
    "sess = tf.Session()\n",
    "sess.run(hello)\n",
    "#print(sess.run(hello))"
   ]
  },
  {
   "cell_type": "markdown",
   "metadata": {
    "collapsed": true
   },
   "source": [
    "2.使用GradientDescent計算回歸係數"
   ]
  },
  {
   "cell_type": "code",
   "execution_count": 11,
   "metadata": {},
   "outputs": [
    {
     "name": "stdout",
     "output_type": "stream",
     "text": [
      "0 [-0.40208578] [ 0.90925348]\n",
      "20 [-0.10502608] [ 0.42126584]\n",
      "40 [ 0.03420851] [ 0.33891341]\n",
      "60 [ 0.07888795] [ 0.31248707]\n",
      "80 [ 0.09322527] [ 0.30400702]\n",
      "100 [ 0.09782604] [ 0.30128583]\n",
      "120 [ 0.09930238] [ 0.30041263]\n",
      "140 [ 0.09977613] [ 0.30013242]\n",
      "160 [ 0.09992817] [ 0.30004251]\n",
      "180 [ 0.09997696] [ 0.30001363]\n",
      "200 [ 0.09999262] [ 0.30000439]\n"
     ]
    }
   ],
   "source": [
    "import tensorflow as tf\n",
    "import numpy as np\n",
    "\n",
    "x_data = np.random.rand(100).astype(np.float32)\n",
    "y_data = x_data * 0.1 + 0.3\n",
    "\n",
    "w = tf.Variable(tf.random_uniform([1], -1.0, 1.0))\n",
    "b = tf.Variable(tf.zeros([1]))\n",
    "#tf.zeros([1]) 一次生成一個 tf.zeros([1,10]) [0], [0], ...[0] #\n",
    "y = w * x_data + b\n",
    "\n",
    "loss = tf.reduce_mean(tf.square(y - y_data))\n",
    "opt = tf.train.GradientDescentOptimizer(learning_rate = 0.5)\n",
    "train = opt.minimize(loss)\n",
    "\n",
    "init = tf.global_variables_initializer()\n",
    "\n",
    "sess = tf.Session()\n",
    "sess.run(init)\n",
    "\n",
    "\n",
    "for step in range(201):\n",
    "    sess.run(train)\n",
    "    if step % 20 == 0:\n",
    "        print(step ,sess.run(w), sess.run(b))\n",
    "\n",
    "\n",
    "#sess.run(train)\n",
    "#print(sess.run(w), sess.run(b))\n",
    "\n",
    "sess.close()"
   ]
  },
  {
   "cell_type": "markdown",
   "metadata": {},
   "source": [
    "3.比較線性迴歸尋找回歸係數"
   ]
  },
  {
   "cell_type": "code",
   "execution_count": 10,
   "metadata": {},
   "outputs": [
    {
     "name": "stdout",
     "output_type": "stream",
     "text": [
      "[[ 0.1]]\n",
      "[ 0.30000004]\n"
     ]
    }
   ],
   "source": [
    "from sklearn.linear_model import LinearRegression\n",
    "import numpy as np\n",
    "\n",
    "lm = LinearRegression()\n",
    "lm.fit(np.reshape(x_data, (len(x_data), 1)), np.reshape(y_data, (len(y_data), 1)))\n",
    "#lm.fit(x_data, y_data)  ~no~\n",
    "print(lm.coef_)\n",
    "\n",
    "print(lm.intercept_ )"
   ]
  },
  {
   "cell_type": "markdown",
   "metadata": {},
   "source": [
    "4.使用TF進行矩陣計算"
   ]
  },
  {
   "cell_type": "code",
   "execution_count": 208,
   "metadata": {},
   "outputs": [
    {
     "name": "stdout",
     "output_type": "stream",
     "text": [
      "[[11  6]]\n"
     ]
    }
   ],
   "source": [
    "mat_1 = tf.constant([[1,3]])\n",
    "mat_2 = tf.constant([[2,3],[3,1]])\n",
    "\n",
    "pro = tf.matmul(mat_1, mat_2)\n",
    "\n",
    "\n",
    "#1\n",
    "#sess = tf.Session()\n",
    "\n",
    "#res = sess.run(pro)\n",
    "#print(res)\n",
    "\n",
    "#sess.close()\n",
    "\n",
    "\n",
    "#2\n",
    "#with tf.Session() as sess:\n",
    "#    res = sess.run([pro])\n",
    "#    print(res)\n",
    "\n",
    "\n",
    "#3\n",
    "sess = tf.InteractiveSession()\n",
    "\n",
    "mat_31 = tf.Variable([[1,3]])\n",
    "mat_32 = tf.Variable([[2,3],\n",
    "                     [3,1]])\n",
    "\n",
    "#mat_31.initializer.run()\n",
    "#mat_32.initializer.run()\n",
    "\n",
    "init = tf.global_variables_initializer()\n",
    "\n",
    "sess = tf.Session()\n",
    "sess.run(init)\n",
    "mul = tf.matmul(mat_31, mat_32)\n",
    "print(sess.run(mul))\n",
    "\n",
    "#pro = tf.matmul(mat_31, mat_32)\n",
    "#print(pro.eval())\n",
    "\n",
    "sess.close()\n",
    "\n"
   ]
  },
  {
   "cell_type": "code",
   "execution_count": 106,
   "metadata": {},
   "outputs": [
    {
     "name": "stdout",
     "output_type": "stream",
     "text": [
      "0\n",
      "1\n",
      "2\n",
      "3\n"
     ]
    }
   ],
   "source": [
    "state = tf.Variable(0, name = \"counter\")\n",
    "\n",
    "one = tf.constant(1)\n",
    "new_value = tf.add(state, one)\n",
    "state_upda = tf.assign(state, new_value)\n",
    "\n",
    "init = tf.global_variables_initializer()\n",
    "\n",
    "with tf.Session() as sess:\n",
    "    sess.run(init)\n",
    "    print(sess.run(state))\n",
    "    for i in range(3):\n",
    "        print(sess.run(state_upda))\n",
    "    \n",
    "\n",
    "\n",
    "#sess = tf.Session()\n",
    "#sess.run(init)\n",
    "#for i in range(20):\n",
    "#    print(sess.run(state_upda))\n",
    "#    print(sess.run(state))\n",
    "#sess.close()   \n",
    "\n"
   ]
  },
  {
   "cell_type": "markdown",
   "metadata": {},
   "source": [
    "5.變數輸入與輸出"
   ]
  },
  {
   "cell_type": "code",
   "execution_count": 112,
   "metadata": {},
   "outputs": [
    {
     "name": "stdout",
     "output_type": "stream",
     "text": [
      "[array([10], dtype=int32), array([21], dtype=int32)]\n"
     ]
    }
   ],
   "source": [
    "input_1 = tf.placeholder(tf.float32)\n",
    "input_2 = tf.placeholder(tf.float32)\n",
    "\n",
    "input_1 = tf.constant([3])\n",
    "input_2 = tf.constant([7])\n",
    "\n",
    "add = tf.add(input_1, input_2)\n",
    "mul = tf.multiply(input_1, input_2)\n",
    "\n",
    "with tf.Session() as sess:\n",
    "    print(sess.run([add, mul]))\n",
    "\n",
    "\n",
    "\n",
    "\n",
    "#with tf.Session() as sess:\n",
    "#    print(sess.run([mul], feed_dict = {input_1: [7], input_2: [3]}))\n"
   ]
  },
  {
   "cell_type": "markdown",
   "metadata": {},
   "source": [
    "TensorBoard"
   ]
  },
  {
   "cell_type": "markdown",
   "metadata": {},
   "source": [
    "嘗試寫隱藏層"
   ]
  },
  {
   "cell_type": "code",
   "execution_count": 269,
   "metadata": {
    "scrolled": true
   },
   "outputs": [
    {
     "name": "stdout",
     "output_type": "stream",
     "text": [
      "0.246841\n",
      "0.0205885\n",
      "0.00506145\n",
      "0.00124511\n",
      "0.000306352\n",
      "7.5381e-05\n",
      "1.85469e-05\n",
      "4.56456e-06\n",
      "1.12296e-06\n",
      "2.76382e-07\n"
     ]
    }
   ],
   "source": [
    "def add_layer(input_data, input_tensors, outpt_tensors, activation_function = None):\n",
    "    w = tf.Variable(tf.random_normal([input_tensors, outpt_tensors]))\n",
    "    b = tf.Variable(tf.zeros([1, outpt_tensors]))\n",
    "    formu = tf.add(tf.matmul(input_data, w), b)\n",
    "    if activation_function is None:\n",
    "        output = formu\n",
    "    else:\n",
    "        output = activation_function(formu)\n",
    "    return output        \n",
    "\n",
    "\n",
    "x_data = np.random.rand(100)\n",
    "x_data = x_data.reshape(len(x_data), 1)\n",
    "y_data = x_data * 0.1 + 0.3\n",
    "\n",
    "x_feeds = tf.placeholder(tf.float32, shape = [None, 1])\n",
    "y_feeds = tf.placeholder(tf.float32, shape = [None, 1])\n",
    "\n",
    "hidden_layer = add_layer(x_feeds, input_tensors = 1, outpt_tensors = 10, activation_function = None)\n",
    "outer_layer  = add_layer(hidden_layer, input_tensors = 10, outpt_tensors = 1, activation_function = None)\n",
    "\n",
    "loss = tf.reduce_mean(tf.square(y_feeds - outer_layer))\n",
    "opt = tf.train.GradientDescentOptimizer(learning_rate = 0.01)\n",
    "tra_res = opt.minimize(loss)\n",
    "\n",
    "init = tf.global_variables_initializer()\n",
    "\n",
    "sess = tf.Session()\n",
    "\n",
    "sess.run(init)\n",
    "\n",
    "for i in range(190):\n",
    "    sess.run(tra_res, feed_dict= {x_feeds: x_data, y_feeds: y_data})\n",
    "    if i % 20 == 0:\n",
    "        print(sess.run(loss, feed_dict = {x_feeds: x_data, y_feeds: y_data}))\n",
    "\n",
    "sess.close()"
   ]
  },
  {
   "cell_type": "markdown",
   "metadata": {},
   "source": [
    "利用tensorboard將之視覺化"
   ]
  },
  {
   "cell_type": "code",
   "execution_count": 270,
   "metadata": {},
   "outputs": [
    {
     "name": "stdout",
     "output_type": "stream",
     "text": [
      "0.762244\n",
      "0.0212164\n",
      "0.0123959\n",
      "0.00726598\n",
      "0.00426266\n",
      "0.00250209\n",
      "0.00146919\n",
      "0.000862887\n",
      "0.000506871\n",
      "0.000297778\n"
     ]
    }
   ],
   "source": [
    "def add_layer(input_data, input_tensors, outpt_tensors, activation_function = None):\n",
    "    with tf.name_scope('Layer'):\n",
    "        with tf.name_scope('Weights'):\n",
    "            w = tf.Variable(tf.random_normal([input_tensors, outpt_tensors]))\n",
    "        with tf.name_scope('Biases'):\n",
    "            b = tf.Variable(tf.zeros([1, outpt_tensors]))\n",
    "        with tf.name_scope('Formula'):\n",
    "            formu = tf.add(tf.matmul(input_data, w), b)\n",
    "        if activation_function is None:\n",
    "            output = formu\n",
    "        else:\n",
    "            output = activation_function(formu)\n",
    "        return output        \n",
    "\n",
    "x_data = np.random.rand(100)\n",
    "x_data = x_data.reshape(len(x_data), 1)\n",
    "y_data = x_data * 0.1 + 0.3\n",
    "\n",
    "with tf.name_scope('Feeds'):\n",
    "    x_feeds = tf.placeholder(tf.float32, shape = [None, 1])\n",
    "    y_feeds = tf.placeholder(tf.float32, shape = [None, 1])\n",
    "\n",
    "hidden_layer = add_layer(x_feeds, input_tensors = 1, outpt_tensors = 10, activation_function = None)\n",
    "outer_layer  = add_layer(hidden_layer, input_tensors = 10, outpt_tensors = 1, activation_function = None)\n",
    "\n",
    "with tf.name_scope('Loss'):\n",
    "    loss = tf.reduce_mean(tf.square(y_feeds - outer_layer))\n",
    "with tf.name_scope('Train'):\n",
    "    opt = tf.train.GradientDescentOptimizer(learning_rate = 0.01)\n",
    "    tra_res = opt.minimize(loss)\n",
    "    \n",
    "init = tf.global_variables_initializer()\n",
    "\n",
    "sess = tf.Session()\n",
    "\n",
    "sess.run(init)\n",
    "\n",
    "write = tf.summary.FileWriter(\"TensorBoard/\", graph = sess.graph)\n",
    "\n",
    "for i in range(190):\n",
    "    sess.run(tra_res, feed_dict= {x_feeds: x_data, y_feeds: y_data})\n",
    "    if i % 20 == 0:\n",
    "        print(sess.run(loss, feed_dict = {x_feeds: x_data, y_feeds: y_data}))\n",
    "\n",
    "sess.close()"
   ]
  },
  {
   "cell_type": "markdown",
   "metadata": {
    "collapsed": true
   },
   "source": [
    "! pip3 install tensorboard、localhost:6006、Tingde-MacBook-Pro:pythonjupyter ting$ tensorboard --logdir TensorBoard/"
   ]
  },
  {
   "cell_type": "markdown",
   "metadata": {},
   "source": [
    "玩mnist資料並建造分類器辨識之"
   ]
  },
  {
   "cell_type": "code",
   "execution_count": 168,
   "metadata": {},
   "outputs": [
    {
     "name": "stdout",
     "output_type": "stream",
     "text": [
      "Extracting MNIST_data/train-images-idx3-ubyte.gz\n",
      "Extracting MNIST_data/train-labels-idx1-ubyte.gz\n",
      "Extracting MNIST_data/t10k-images-idx3-ubyte.gz\n",
      "Extracting MNIST_data/t10k-labels-idx1-ubyte.gz\n",
      "3\n"
     ]
    },
    {
     "data": {
      "image/png": "[encoded data removed]",
      "text/plain": [
       "<matplotlib.figure.Figure at 0x13aa83240>"
      ]
     },
     "metadata": {},
     "output_type": "display_data"
    }
   ],
   "source": [
    "from tensorflow.examples.tutorials.mnist import input_data\n",
    "import matplotlib.pyplot as plt\n",
    "\n",
    "mnist  = input_data.read_data_sets(\"MNIST_data/\", one_hot = True)\n",
    "x_tra  = mnist.train.images\n",
    "y_tra  = mnist.train.labels\n",
    "x_test = mnist.test.images\n",
    "y_test = mnist.test.labels\n",
    "\n",
    "#print(x_tra[1,:])\n",
    "\n",
    "print(np.argmax(y_tra[1,:], axis = 0))\n",
    "\n",
    "first_tra_img = np.reshape(x_tra[1, :], (28, 28))\n",
    "plt.matshow(first_tra_img,cmap = plt.get_cmap('Reds'))\n",
    "plt.show()\n",
    "\n",
    "#理解資料型態＃\n",
    "'''\n",
    "type(y_tra)\n",
    "type(x_tra)\n",
    "np.shape(y_tra)\n",
    "np.shape(x_tra)\n",
    "y_tra[1,:]\n",
    "first_tra_img = np.reshape(x_tra[1, :], (28, 28))\n",
    "'''\n",
    "\n",
    "\n"
   ]
  },
  {
   "cell_type": "code",
   "execution_count": 176,
   "metadata": {},
   "outputs": [
    {
     "name": "stdout",
     "output_type": "stream",
     "text": [
      "Extracting MNIST_data/train-images-idx3-ubyte.gz\n",
      "Extracting MNIST_data/train-labels-idx1-ubyte.gz\n",
      "Extracting MNIST_data/t10k-images-idx3-ubyte.gz\n",
      "Extracting MNIST_data/t10k-labels-idx1-ubyte.gz\n",
      "1.67311\n",
      "0.356003\n",
      "0.386282\n",
      "0.432872\n",
      "0.355879\n",
      "0.225063\n",
      "0.311063\n",
      "0.280701\n",
      "0.335932\n",
      "0.161922\n",
      "0.21674\n",
      "0.278052\n",
      "0.365288\n",
      "0.396833\n",
      "0.151868\n",
      "0.216886\n",
      "0.12562\n",
      "0.204515\n",
      "0.188744\n",
      "0.248115\n",
      "---\n",
      "Accuracy:  0.9194\n"
     ]
    }
   ],
   "source": [
    "learning_rate = 0.5\n",
    "training_steps = 1000\n",
    "batch_size = 100\n",
    "logs_path = 'TensorBoard/'\n",
    "n_features = x_train.shape[1]\n",
    "n_labels = y_train.shape[1]\n",
    "\n",
    "\n",
    "with tf.name_scope('Inputs'):\n",
    "    x = tf.placeholder(tf.float32, [None, n_features], name = 'Input_Data')\n",
    "with tf.name_scope('Labels'):\n",
    "    y = tf.placeholder(tf.float32, [None, n_labels], name = 'Label_Data')\n",
    "\n",
    "\n",
    "with tf.name_scope('ModelParameters'):\n",
    "    W = tf.Variable(tf.zeros([n_features, n_labels]), name = 'Weights')\n",
    "    b = tf.Variable(tf.zeros([n_labels]), name = 'Bias')\n",
    "\n",
    "\n",
    "with tf.name_scope('Model'):\n",
    "    prediction = tf.nn.softmax(tf.matmul(x, W) + b)\n",
    "with tf.name_scope('CrossEntropy'):\n",
    "    loss = tf.reduce_mean(-tf.reduce_sum(y * tf.log(prediction), reduction_indices = 1))\n",
    "    tf.summary.scalar(\"Loss\", loss)\n",
    "with tf.name_scope('GradientDescent'):\n",
    "    optimizer = tf.train.GradientDescentOptimizer(learning_rate).minimize(loss)\n",
    "with tf.name_scope('Accuracy'):\n",
    "    correct_prediction = tf.equal(tf.argmax(prediction, 1), tf.argmax(y, 1))\n",
    "    acc = tf.reduce_mean(tf.cast(correct_prediction, tf.float32))\n",
    "    tf.summary.scalar('Accuracy', acc)\n",
    "\n",
    "\n",
    "init = tf.global_variables_initializer()\n",
    "\n",
    "sess = tf.Session()\n",
    "sess.run(init)\n",
    "\n",
    "merged = tf.summary.merge_all()\n",
    "writer = tf.summary.FileWriter(logs_path, graph = tf.get_default_graph())\n",
    "\n",
    "for step in range(training_steps):\n",
    "    batch_xs, batch_ys = mnist.train.next_batch(batch_size)\n",
    "    sess.run(optimizer, feed_dict = {x: batch_xs, y: batch_ys})\n",
    "    if step % 50 == 0:\n",
    "        print(sess.run(loss, feed_dict = {x: batch_xs, y: batch_ys}))\n",
    "        summary = sess.run(merged, feed_dict = {x: batch_xs, y: batch_ys})\n",
    "        writer.add_summary(summary, step)\n",
    "\n",
    "print(\"---\")\n",
    "\n",
    "print(\"Accuracy: \", sess.run(acc, feed_dict={x: x_test, y: y_test}))\n",
    "\n",
    "sess.close()"
   ]
  },
  {
   "cell_type": "code",
   "execution_count": null,
   "metadata": {
    "collapsed": true
   },
   "outputs": [],
   "source": []
  }
 ],
 "metadata": {
  "kernelspec": {
   "display_name": "Python 3",
   "language": "python",
   "name": "python3"
  },
  "language_info": {
   "codemirror_mode": {
    "name": "ipython",
    "version": 3
   },
   "file_extension": ".py",
   "mimetype": "text/x-python",
   "name": "python",
   "nbconvert_exporter": "python",
   "pygments_lexer": "ipython3",
   "version": "3.6.1"
  }
 },
 "nbformat": 4,
 "nbformat_minor": 2
}
