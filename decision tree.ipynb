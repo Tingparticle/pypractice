{
 "cells": [
  {
   "cell_type": "code",
   "execution_count": 36,
   "metadata": {
    "scrolled": true
   },
   "outputs": [
    {
     "name": "stdout",
     "output_type": "stream",
     "text": [
      "[1 1 0 0 0 0 2 0 1 1 0 1 1 0 2 1 1 1 2 2 1 2 2 0 1 2 0 2 0 0]\n",
      "[1 1 0 0 0 0 2 0 1 1 0 1 1 0 2 1 1 1 2 2 2 2 2 0 1 2 0 2 0 0]\n"
     ]
    },
    {
     "data": {
      "image/png": "[encoded data removed]",
      "text/plain": [
       "<matplotlib.figure.Figure at 0x11aa20f28>"
      ]
     },
     "metadata": {},
     "output_type": "display_data"
    },
    {
     "name": "stdout",
     "output_type": "stream",
     "text": [
      "0.966666666667\n"
     ]
    }
   ],
   "source": [
    "from sklearn import datasets\n",
    "from sklearn.cross_validation import train_test_split\n",
    "from sklearn import tree\n",
    "import matplotlib.pyplot as plt\n",
    "import numpy as np\n",
    "from sklearn import metrics\n",
    "\n",
    "iris = datasets.load_iris()\n",
    "iris_x = iris.data\n",
    "iris_y = iris.target\n",
    "\n",
    "train_x, test_x, train_y, test_y = train_test_split(iris_x, iris_y, test_size = 0.2)\n",
    "\n",
    "des_tre_clf = tree.DecisionTreeClassifier()\n",
    "iris_clf = des_tre_clf.fit(train_x, train_y)\n",
    "\n",
    "iris_pre = des_tre_clf.predict(test_x)\n",
    "print(iris_pre)\n",
    "type(iris_pre)\n",
    "print(test_y)\n",
    "\n",
    "array_1 = np.array(range(0,30))\n",
    "\n",
    "plt.scatter(iris_pre, array_1)\n",
    "plt.scatter(test_y, array_1)\n",
    "plt.show()\n",
    "plt.close()\n",
    "\n",
    "iris_pre - test_y\n",
    "\n",
    "acc = metrics.accuracy_score(test_y, iris_pre)\n",
    "print(acc)\n"
   ]
  },
  {
   "cell_type": "code",
   "execution_count": null,
   "metadata": {
    "collapsed": true
   },
   "outputs": [],
   "source": []
  }
 ],
 "metadata": {
  "kernelspec": {
   "display_name": "Python 3",
   "language": "python",
   "name": "python3"
  },
  "language_info": {
   "codemirror_mode": {
    "name": "ipython",
    "version": 3
   },
   "file_extension": ".py",
   "mimetype": "text/x-python",
   "name": "python",
   "nbconvert_exporter": "python",
   "pygments_lexer": "ipython3",
   "version": "3.6.1"
  }
 },
 "nbformat": 4,
 "nbformat_minor": 2
}
